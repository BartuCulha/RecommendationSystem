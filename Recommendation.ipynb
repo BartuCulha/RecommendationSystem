{
 "cells": [
  {
   "cell_type": "code",
   "execution_count": 80,
   "metadata": {},
   "outputs": [],
   "source": [
    "import os\n",
    "import pandas as pd\n",
    "import numpy as np\n",
    "import matplotlib.pyplot as plt\n",
    "import pylab"
   ]
  },
  {
   "cell_type": "code",
   "execution_count": 63,
   "metadata": {},
   "outputs": [],
   "source": [
    "#reading gender.dat\n",
    "gender_cols = ['UserID', 'Gender']\n",
    "gender = pd.read_csv('gender.dat', names = gender_cols)\n",
    "#reading ratings.dat\n",
    "ratings_cols = ['UserID', 'ProfileID', 'Rating']\n",
    "ratings = pd.read_csv('ratings.dat', names = ratings_cols)"
   ]
  },
  {
   "cell_type": "code",
   "execution_count": 74,
   "metadata": {},
   "outputs": [],
   "source": [
    "#merging gender with ratings \n",
    "df = gender.merge(ratings)"
   ]
  },
  {
   "cell_type": "code",
   "execution_count": 75,
   "metadata": {},
   "outputs": [],
   "source": [
    "ratings_mean = (df.groupby('UserID'))['Rating'].mean()\n",
    "ratings_total = df.groupby('UserID').size()"
   ]
  },
  {
   "cell_type": "code",
   "execution_count": 76,
   "metadata": {},
   "outputs": [],
   "source": [
    "ratings_total = pd.DataFrame({'UserID':ratings_total.index,'total ratings': ratings_total.values})\n",
    "ratings_mean = pd.DataFrame({'UserID' : ratings_mean.index, 'mean of ratings': ratings_mean.values})\n"
   ]
  },
  {
   "cell_type": "code",
   "execution_count": 88,
   "metadata": {},
   "outputs": [
    {
     "name": "stdout",
     "output_type": "stream",
     "text": [
      "        UserID  mean of ratings  total ratings\n",
      "8293      8294         9.973046            371\n",
      "50517    50518         9.966667             30\n",
      "134608  134609         9.950000             20\n",
      "60128    60129         9.877193             57\n",
      "63149    63150         9.873418             79\n",
      "91269    91270         9.857143             35\n",
      "47488    47489         9.853659             41\n",
      "109012  109013         9.827815            151\n",
      "135205  135206         9.821429            112\n",
      "72225    72226         9.819672             61\n",
      "127901  127902         9.811321            106\n",
      "52725    52726         9.810526             95\n",
      "40236    40237         9.800000             20\n",
      "131983  131984         9.800000             20\n",
      "41122    41123         9.795918             98\n",
      "71635    71636         9.785714            560\n",
      "73704    73705         9.784615             65\n",
      "68600    68601         9.781250             32\n",
      "108766  108767         9.780000             50\n",
      "117044  117045         9.773585             53\n",
      "83942    83943         9.764286            420\n",
      "91867    91868         9.762500             80\n",
      "52545    52546         9.761905             42\n",
      "16769    16770         9.761905             21\n",
      "113156  113157         9.761506            239\n",
      "32257    32258         9.755556             45\n",
      "76964    76965         9.753521            142\n",
      "36106    36107         9.750000             28\n",
      "17086    17087         9.745875            303\n",
      "13974    13975         9.740741             27\n",
      "...        ...              ...            ...\n",
      "1430      1431         2.200000             20\n",
      "51072    51073         2.200000             25\n",
      "38566    38567         2.192308             26\n",
      "21069    21070         2.190476             21\n",
      "27850    27851         2.185185             27\n",
      "35788    35789         2.178571             28\n",
      "46491    46492         2.172414             29\n",
      "73831    73832         2.160000             25\n",
      "6811      6812         2.150000             20\n",
      "121823  121824         2.147059             34\n",
      "68099    68100         2.142857             28\n",
      "100686  100687         2.142857             28\n",
      "134844  134845         2.137931             29\n",
      "65460    65461         2.137931             29\n",
      "52280    52281         2.113636             44\n",
      "38542    38543         2.086957             23\n",
      "133842  133843         2.086957             23\n",
      "106763  106764         2.038095            105\n",
      "54497    54498         2.000000             21\n",
      "106149  106150         1.961538             26\n",
      "81698    81699         1.958904             73\n",
      "90413    90414         1.956522             23\n",
      "34355    34356         1.944444             36\n",
      "103225  103226         1.869565             23\n",
      "134319  134320         1.862069             29\n",
      "118660  118661         1.840000             25\n",
      "65705    65706         1.821752            331\n",
      "38990    38991         1.608696             23\n",
      "60253    60254         1.367089            158\n",
      "45162    45163         1.300000             20\n",
      "\n",
      "[135359 rows x 3 columns]\n"
     ]
    }
   ],
   "source": [
    "final = pd.merge(ratings_mean, ratings_total).sort_values(by = 'mean of ratings', ascending = False)\n",
    "print(final)"
   ]
  },
  {
   "cell_type": "code",
   "execution_count": null,
   "metadata": {},
   "outputs": [],
   "source": []
  },
  {
   "cell_type": "code",
   "execution_count": null,
   "metadata": {},
   "outputs": [],
   "source": []
  }
 ],
 "metadata": {
  "kernelspec": {
   "display_name": "Python 3",
   "language": "python",
   "name": "python3"
  },
  "language_info": {
   "codemirror_mode": {
    "name": "ipython",
    "version": 3
   },
   "file_extension": ".py",
   "mimetype": "text/x-python",
   "name": "python",
   "nbconvert_exporter": "python",
   "pygments_lexer": "ipython3",
   "version": "3.6.3"
  }
 },
 "nbformat": 4,
 "nbformat_minor": 2
}
